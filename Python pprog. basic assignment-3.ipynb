{
 "cells": [
  {
   "cell_type": "markdown",
   "id": "56731094",
   "metadata": {},
   "source": [
    "### Q1. Write a Python Program to Check if a Number is Positive, Negative or Zero?"
   ]
  },
  {
   "cell_type": "code",
   "execution_count": 1,
   "id": "f6817694",
   "metadata": {},
   "outputs": [],
   "source": [
    "def check_num(num):\n",
    "    if num > 0:\n",
    "        print(\"Number {} is Positive\".format(num))\n",
    "    elif num < 0:\n",
    "        print(\"Number {} is Negative\".format(num))\n",
    "    else:\n",
    "        print(\"Number {} is Zero\".format(num))"
   ]
  },
  {
   "cell_type": "code",
   "execution_count": 2,
   "id": "92ef344b",
   "metadata": {},
   "outputs": [
    {
     "name": "stdout",
     "output_type": "stream",
     "text": [
      "Number 100 is Positive\n"
     ]
    }
   ],
   "source": [
    "check_num(100)"
   ]
  },
  {
   "cell_type": "code",
   "execution_count": 3,
   "id": "79d273ff",
   "metadata": {},
   "outputs": [
    {
     "name": "stdout",
     "output_type": "stream",
     "text": [
      "Number -2 is Negative\n"
     ]
    }
   ],
   "source": [
    "check_num(-2)"
   ]
  },
  {
   "cell_type": "code",
   "execution_count": 4,
   "id": "a01bb817",
   "metadata": {},
   "outputs": [
    {
     "name": "stdout",
     "output_type": "stream",
     "text": [
      "Number 0 is Zero\n"
     ]
    }
   ],
   "source": [
    "check_num(0)"
   ]
  },
  {
   "cell_type": "code",
   "execution_count": 6,
   "id": "781a81bc",
   "metadata": {},
   "outputs": [
    {
     "name": "stdout",
     "output_type": "stream",
     "text": [
      "Number 1 is Positive\n",
      "Number 2 is Positive\n",
      "Number -1 is Negative\n",
      "Number -2 is Negative\n",
      "Number 0 is Zero\n"
     ]
    }
   ],
   "source": [
    "num1 = [1,2,-1,-2,0]\n",
    "for i in num1:\n",
    "    check_num(i)"
   ]
  },
  {
   "cell_type": "markdown",
   "id": "14d971ab",
   "metadata": {},
   "source": [
    "### Q2. Write a Python Program to Check if a Number is Odd or Even?"
   ]
  },
  {
   "cell_type": "code",
   "execution_count": 12,
   "id": "1aaca605",
   "metadata": {},
   "outputs": [],
   "source": [
    "def check_num2(num2):\n",
    "    if num2 % 2 == 0:\n",
    "        print(\"Number {} is even\".format(num2))\n",
    "    else:\n",
    "        print(\"Number {} is odd\".format(num2))"
   ]
  },
  {
   "cell_type": "code",
   "execution_count": 13,
   "id": "a84fe0b9",
   "metadata": {},
   "outputs": [
    {
     "name": "stdout",
     "output_type": "stream",
     "text": [
      "Number 55 is odd\n",
      "Number 20 is even\n",
      "Number 0 is even\n",
      "None None None\n"
     ]
    }
   ],
   "source": [
    "print(check_num2(55),check_num2(20),(check_num2(0)))"
   ]
  },
  {
   "cell_type": "markdown",
   "id": "315aa1ee",
   "metadata": {},
   "source": [
    "### Q3. Write a Python Program to Check Leap Year?"
   ]
  },
  {
   "cell_type": "code",
   "execution_count": 15,
   "id": "6043e115",
   "metadata": {},
   "outputs": [],
   "source": [
    "def check_leap(year):\n",
    "    if year % 4 == 0 and year % 100 != 0:\n",
    "        print(\"Year {} is leap year\".format(year))\n",
    "    else:\n",
    "        print(\"Year {} is not leap year\".format(year))"
   ]
  },
  {
   "cell_type": "code",
   "execution_count": 16,
   "id": "595fb1ec",
   "metadata": {},
   "outputs": [
    {
     "name": "stdout",
     "output_type": "stream",
     "text": [
      "Year 1900 is not leap year\n",
      "Year 2020 is leap year\n",
      "Year 2000 is not leap year\n"
     ]
    },
    {
     "data": {
      "text/plain": [
       "(None, None, None)"
      ]
     },
     "execution_count": 16,
     "metadata": {},
     "output_type": "execute_result"
    }
   ],
   "source": [
    "check_leap(1900),check_leap(2020),check_leap(2000)"
   ]
  },
  {
   "cell_type": "markdown",
   "id": "abd45afb",
   "metadata": {},
   "source": [
    "### Q4. Write a Python Program to Check Prime Number?"
   ]
  },
  {
   "cell_type": "code",
   "execution_count": 24,
   "id": "c0cbffdc",
   "metadata": {},
   "outputs": [],
   "source": [
    "def prime_num(num3):\n",
    "    if num3 == 2 or num3 == 3:\n",
    "        print(\"Number {} is Prime\".format(num3))\n",
    "    elif num3 % 2 == 0 or num3 % 3 == 0:\n",
    "        print(\"Number {} is Not Prime\".format(num3))\n",
    "    else:\n",
    "        print(\"Number {} is Prime\".format(num3))"
   ]
  },
  {
   "cell_type": "code",
   "execution_count": 25,
   "id": "51054bb2",
   "metadata": {
    "scrolled": true
   },
   "outputs": [
    {
     "name": "stdout",
     "output_type": "stream",
     "text": [
      "Number 1 is Prime\n",
      "Number 2 is Prime\n",
      "Number 3 is Prime\n",
      "Number 4 is Not Prime\n",
      "Number 5 is Prime\n",
      "Number 6 is Not Prime\n",
      "Number 7 is Prime\n",
      "Number 8 is Not Prime\n",
      "Number 9 is Not Prime\n",
      "Number 10 is Not Prime\n"
     ]
    },
    {
     "data": {
      "text/plain": [
       "(None, None, None, None, None, None, None, None, None, None)"
      ]
     },
     "execution_count": 25,
     "metadata": {},
     "output_type": "execute_result"
    }
   ],
   "source": [
    "prime_num(1),prime_num(2),prime_num(3),prime_num(4),prime_num(5),prime_num(6),prime_num(7),prime_num(8),prime_num(9),prime_num(10)"
   ]
  },
  {
   "cell_type": "markdown",
   "id": "9736c5f9",
   "metadata": {},
   "source": [
    "### Q5. Write a Python Program to Print all Prime Numbers in an Interval of 1-10000?"
   ]
  },
  {
   "cell_type": "code",
   "execution_count": 60,
   "id": "01727778",
   "metadata": {},
   "outputs": [
    {
     "name": "stdout",
     "output_type": "stream",
     "text": [
      "[2, 3, 5, 7, 11, 13, 17, 19, 23, 29, 31, 37, 41, 43, 47, 53, 59, 61, 67, 71, 73, 79, 83, 89, 97]\n"
     ]
    }
   ],
   "source": [
    "prime_lst=[]\n",
    "for a in range(2,100):\n",
    "    for i in range(2,a):\n",
    "        if a%i ==0:\n",
    "            break\n",
    "    else:\n",
    "        prime_lst.append(a)\n",
    "print((prime_lst))\n",
    "            "
   ]
  },
  {
   "cell_type": "code",
   "execution_count": null,
   "id": "590e9fe9",
   "metadata": {},
   "outputs": [],
   "source": []
  }
 ],
 "metadata": {
  "kernelspec": {
   "display_name": "Python 3 (ipykernel)",
   "language": "python",
   "name": "python3"
  },
  "language_info": {
   "codemirror_mode": {
    "name": "ipython",
    "version": 3
   },
   "file_extension": ".py",
   "mimetype": "text/x-python",
   "name": "python",
   "nbconvert_exporter": "python",
   "pygments_lexer": "ipython3",
   "version": "3.9.6"
  }
 },
 "nbformat": 4,
 "nbformat_minor": 5
}
