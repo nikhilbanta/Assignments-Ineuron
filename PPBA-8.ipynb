{
 "cells": [
  {
   "cell_type": "markdown",
   "id": "8183164b",
   "metadata": {},
   "source": [
    "### 1. Write a Python Program to Add Two Matrices?"
   ]
  },
  {
   "cell_type": "code",
   "execution_count": 4,
   "id": "d7c7ce95",
   "metadata": {},
   "outputs": [],
   "source": [
    "import numpy as np\n",
    "a = np.array(((1,2,3),(5,4,6),(9,1,2)))\n",
    "b = np.array(((9,9,9),(4,9,2),(3,7,5)))"
   ]
  },
  {
   "cell_type": "code",
   "execution_count": 15,
   "id": "38d6d1d5",
   "metadata": {},
   "outputs": [],
   "source": [
    "sum = np.add(a,b)"
   ]
  },
  {
   "cell_type": "markdown",
   "id": "ab590dde",
   "metadata": {},
   "source": [
    "### 2. Write a Python Program to Multiply Two Matrices?"
   ]
  },
  {
   "cell_type": "code",
   "execution_count": 20,
   "id": "be17f401",
   "metadata": {},
   "outputs": [],
   "source": [
    "multiply2 = np.dot(a,b)"
   ]
  },
  {
   "cell_type": "code",
   "execution_count": 22,
   "id": "c9cf7992",
   "metadata": {},
   "outputs": [
    {
     "data": {
      "text/plain": [
       "array([[ 26,  48,  28],\n",
       "       [ 79, 123,  83],\n",
       "       [ 91, 104,  93]])"
      ]
     },
     "execution_count": 22,
     "metadata": {},
     "output_type": "execute_result"
    }
   ],
   "source": [
    "multiply2"
   ]
  },
  {
   "cell_type": "markdown",
   "id": "62ff0fc9",
   "metadata": {},
   "source": [
    "### 3. Write a Python Program to Transpose a Matrix?"
   ]
  },
  {
   "cell_type": "code",
   "execution_count": 27,
   "id": "fef1983d",
   "metadata": {},
   "outputs": [
    {
     "data": {
      "text/plain": [
       "array([[1, 2, 3],\n",
       "       [5, 4, 6],\n",
       "       [9, 1, 2]])"
      ]
     },
     "execution_count": 27,
     "metadata": {},
     "output_type": "execute_result"
    }
   ],
   "source": [
    "a"
   ]
  },
  {
   "cell_type": "code",
   "execution_count": 25,
   "id": "378e672e",
   "metadata": {},
   "outputs": [],
   "source": [
    "transpose = a.T"
   ]
  },
  {
   "cell_type": "code",
   "execution_count": 26,
   "id": "14055ecb",
   "metadata": {},
   "outputs": [
    {
     "data": {
      "text/plain": [
       "array([[1, 5, 9],\n",
       "       [2, 4, 1],\n",
       "       [3, 6, 2]])"
      ]
     },
     "execution_count": 26,
     "metadata": {},
     "output_type": "execute_result"
    }
   ],
   "source": [
    "transpose"
   ]
  },
  {
   "cell_type": "markdown",
   "id": "f3d4deb9",
   "metadata": {},
   "source": [
    "### 4. Write a Python Program to Sort Words in Alphabetic Order?"
   ]
  },
  {
   "cell_type": "code",
   "execution_count": 39,
   "id": "a1dd65fb",
   "metadata": {},
   "outputs": [],
   "source": [
    "lst = ['z','b','d','q','m','a','c','cba','mno']\n",
    "l2 = sorted(lst)"
   ]
  },
  {
   "cell_type": "code",
   "execution_count": 41,
   "id": "66286e91",
   "metadata": {},
   "outputs": [
    {
     "data": {
      "text/plain": [
       "['a', 'b', 'c', 'cba', 'd', 'm', 'mno', 'q', 'z']"
      ]
     },
     "execution_count": 41,
     "metadata": {},
     "output_type": "execute_result"
    }
   ],
   "source": [
    "l2"
   ]
  },
  {
   "cell_type": "markdown",
   "id": "be1e1099",
   "metadata": {},
   "source": [
    "### 5. Write a Python Program to Remove Punctuation From a String?"
   ]
  },
  {
   "cell_type": "code",
   "execution_count": 53,
   "id": "f301d733",
   "metadata": {},
   "outputs": [],
   "source": [
    "import re\n",
    "string = \"\"\"She is running late.' This is a sentence.'She is' isn't a complete sentence \n",
    "         unless it is an answer to a question. (Is she running late? She is.)Sentences can contain one \n",
    "         statement:'I fed the dog.'or more than one statement:'I fed the dog and then \n",
    "         I went to the pet shop to buy more dog food.\"\"\""
   ]
  },
  {
   "cell_type": "code",
   "execution_count": 54,
   "id": "529e65af",
   "metadata": {},
   "outputs": [],
   "source": [
    "string = re.sub(r'[^\\w\\s]', '', string)"
   ]
  },
  {
   "cell_type": "code",
   "execution_count": 56,
   "id": "051517d9",
   "metadata": {},
   "outputs": [
    {
     "name": "stdout",
     "output_type": "stream",
     "text": [
      "She is running late This is a sentenceShe is isnt a complete sentence \n",
      "         unless it is an answer to a question Is she running late She isSentences can contain one \n",
      "         statementI fed the dogor more than one statementI fed the dog and then \n",
      "         I went to the pet shop to buy more dog food\n"
     ]
    }
   ],
   "source": [
    "print(string)"
   ]
  },
  {
   "cell_type": "code",
   "execution_count": null,
   "id": "15e4e2af",
   "metadata": {},
   "outputs": [],
   "source": []
  }
 ],
 "metadata": {
  "kernelspec": {
   "display_name": "Python 3 (ipykernel)",
   "language": "python",
   "name": "python3"
  },
  "language_info": {
   "codemirror_mode": {
    "name": "ipython",
    "version": 3
   },
   "file_extension": ".py",
   "mimetype": "text/x-python",
   "name": "python",
   "nbconvert_exporter": "python",
   "pygments_lexer": "ipython3",
   "version": "3.9.5"
  }
 },
 "nbformat": 4,
 "nbformat_minor": 5
}
