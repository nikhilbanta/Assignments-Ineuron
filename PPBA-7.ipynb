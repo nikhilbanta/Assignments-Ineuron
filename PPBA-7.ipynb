{
 "cells": [
  {
   "cell_type": "markdown",
   "id": "f3b58b89",
   "metadata": {},
   "source": [
    "### Write a Python Program to find sum of array?"
   ]
  },
  {
   "cell_type": "code",
   "execution_count": 23,
   "id": "1fce5e13",
   "metadata": {},
   "outputs": [],
   "source": [
    "import numpy as np\n",
    "arr = np.array((1,5,5,6,7,8,12,55))"
   ]
  },
  {
   "cell_type": "code",
   "execution_count": 24,
   "id": "f2f0cc42",
   "metadata": {},
   "outputs": [
    {
     "data": {
      "text/plain": [
       "99"
      ]
     },
     "execution_count": 24,
     "metadata": {},
     "output_type": "execute_result"
    }
   ],
   "source": [
    "arr.sum()"
   ]
  },
  {
   "cell_type": "markdown",
   "id": "48745018",
   "metadata": {},
   "source": [
    "### Write a Python Program to find largest element in an array?"
   ]
  },
  {
   "cell_type": "code",
   "execution_count": 25,
   "id": "5925b163",
   "metadata": {},
   "outputs": [],
   "source": [
    "def max_array(n):\n",
    "    arr = np.array(n)\n",
    "    return arr.max()"
   ]
  },
  {
   "cell_type": "code",
   "execution_count": 28,
   "id": "92e02536",
   "metadata": {},
   "outputs": [
    {
     "data": {
      "text/plain": [
       "77"
      ]
     },
     "execution_count": 28,
     "metadata": {},
     "output_type": "execute_result"
    }
   ],
   "source": [
    "max_array((1,2,50,77,55,66,44,22,3,32))"
   ]
  },
  {
   "cell_type": "markdown",
   "id": "9b011483",
   "metadata": {},
   "source": [
    "### Write a Python Program for array rotation?"
   ]
  },
  {
   "cell_type": "code",
   "execution_count": 30,
   "id": "0aa103f8",
   "metadata": {},
   "outputs": [],
   "source": [
    "def arr_rotation(l):\n",
    "    n = int(input(\"Enter rotation size : \"))\n",
    "    print(\"Original list: \",l)\n",
    "    lst = l[n:] + l[:n]\n",
    "    return \"Rotation list : {}\".format(lst)\n",
    "    "
   ]
  },
  {
   "cell_type": "code",
   "execution_count": 31,
   "id": "238e6922",
   "metadata": {},
   "outputs": [
    {
     "name": "stdout",
     "output_type": "stream",
     "text": [
      "Enter rotation size : 3\n",
      "Original list:  (1, 2, 3, 4, 5, 6)\n"
     ]
    },
    {
     "data": {
      "text/plain": [
       "'Rotation list : (4, 5, 6, 1, 2, 3)'"
      ]
     },
     "execution_count": 31,
     "metadata": {},
     "output_type": "execute_result"
    }
   ],
   "source": [
    "arr_rotation((1,2,3,4,5,6))"
   ]
  },
  {
   "cell_type": "markdown",
   "id": "dbdb0e15",
   "metadata": {},
   "source": [
    "### Write a Python Program to Split the array and add the first part to the end?"
   ]
  },
  {
   "cell_type": "code",
   "execution_count": 87,
   "id": "d89692e9",
   "metadata": {},
   "outputs": [],
   "source": [
    "def array_shift(lst,n=2):\n",
    "    array = np.array_split(lst,n)\n",
    "    rotation_array = np.concatenate((array[n-1],array[n-2]),axis=None)\n",
    "    return array, rotation_array"
   ]
  },
  {
   "cell_type": "code",
   "execution_count": 88,
   "id": "c828b03b",
   "metadata": {},
   "outputs": [
    {
     "data": {
      "text/plain": [
       "([array([1, 2, 3, 4, 5]), array([6, 7, 8, 9])],\n",
       " array([6, 7, 8, 9, 1, 2, 3, 4, 5]))"
      ]
     },
     "execution_count": 88,
     "metadata": {},
     "output_type": "execute_result"
    }
   ],
   "source": [
    "array_shift((1,2,3,4,5,6,7,8,9))"
   ]
  },
  {
   "cell_type": "markdown",
   "id": "5385665e",
   "metadata": {},
   "source": [
    "### 5. Write a Python Program to check if given array is Monotonic?"
   ]
  },
  {
   "cell_type": "code",
   "execution_count": 99,
   "id": "c23faedb",
   "metadata": {},
   "outputs": [],
   "source": [
    "#monotonic means array inc or dec\n",
    "a1 = np.array((5,4,3,2,1))"
   ]
  },
  {
   "cell_type": "code",
   "execution_count": 100,
   "id": "dfe17d39",
   "metadata": {},
   "outputs": [
    {
     "name": "stdout",
     "output_type": "stream",
     "text": [
      "monotonic Decresing\n"
     ]
    }
   ],
   "source": [
    "if all(a1[i]<=a1[i+1] for i in range(len(a1)-1)):\n",
    "    print(\"monotonic Increasing\")\n",
    "elif all(a1[i]>=a1[i+1] for i in range(len(a1)-1)):\n",
    "        print(\"monotonic Decresing\")\n",
    "else:\n",
    "    print(\"No monotonic\")\n",
    "        "
   ]
  },
  {
   "cell_type": "code",
   "execution_count": null,
   "id": "ed4358e7",
   "metadata": {},
   "outputs": [],
   "source": []
  }
 ],
 "metadata": {
  "kernelspec": {
   "display_name": "Python 3 (ipykernel)",
   "language": "python",
   "name": "python3"
  },
  "language_info": {
   "codemirror_mode": {
    "name": "ipython",
    "version": 3
   },
   "file_extension": ".py",
   "mimetype": "text/x-python",
   "name": "python",
   "nbconvert_exporter": "python",
   "pygments_lexer": "ipython3",
   "version": "3.9.5"
  }
 },
 "nbformat": 4,
 "nbformat_minor": 5
}
