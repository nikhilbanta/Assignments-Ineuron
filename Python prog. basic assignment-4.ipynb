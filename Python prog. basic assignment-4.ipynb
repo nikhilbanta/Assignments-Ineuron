{
 "cells": [
  {
   "cell_type": "markdown",
   "id": "c8cb2d03",
   "metadata": {},
   "source": [
    "### Q1. Write a Python Program to Find the Factorial of a Number?"
   ]
  },
  {
   "cell_type": "markdown",
   "id": "68b24076",
   "metadata": {},
   "source": [
    "#### Method 1"
   ]
  },
  {
   "cell_type": "code",
   "execution_count": 1,
   "id": "27dd9b28",
   "metadata": {},
   "outputs": [],
   "source": [
    "def fact(num):\n",
    "    a = 1\n",
    "    for i in range(1,num+1):\n",
    "        a = a*i\n",
    "    print(a)\n",
    "    "
   ]
  },
  {
   "cell_type": "code",
   "execution_count": 2,
   "id": "c349df9f",
   "metadata": {},
   "outputs": [
    {
     "name": "stdout",
     "output_type": "stream",
     "text": [
      "120\n",
      "3628800\n",
      "1307674368000\n",
      "121645100408832000\n",
      "2432902008176640000\n",
      "15511210043330985984000000\n"
     ]
    }
   ],
   "source": [
    "lst_fact = [5,10,15,19,20,25]\n",
    "for i in lst_fact:\n",
    "    fact(i)"
   ]
  },
  {
   "cell_type": "markdown",
   "id": "aabde4cf",
   "metadata": {},
   "source": [
    "#### Method 2"
   ]
  },
  {
   "cell_type": "code",
   "execution_count": 3,
   "id": "18893444",
   "metadata": {},
   "outputs": [],
   "source": [
    "import math"
   ]
  },
  {
   "cell_type": "code",
   "execution_count": 4,
   "id": "8a768ab5",
   "metadata": {},
   "outputs": [
    {
     "name": "stdout",
     "output_type": "stream",
     "text": [
      "3628800\n"
     ]
    }
   ],
   "source": [
    "num = 10\n",
    "print(math.factorial(num))"
   ]
  },
  {
   "cell_type": "markdown",
   "id": "3e59211b",
   "metadata": {},
   "source": [
    "### Q2Write a Python Program to Display the multiplication Table?"
   ]
  },
  {
   "cell_type": "code",
   "execution_count": 5,
   "id": "649e1141",
   "metadata": {},
   "outputs": [
    {
     "name": "stdout",
     "output_type": "stream",
     "text": [
      "12 x 1 = 12\n",
      "12 x 2 = 24\n",
      "12 x 3 = 36\n",
      "12 x 4 = 48\n",
      "12 x 5 = 60\n",
      "12 x 6 = 72\n",
      "12 x 7 = 84\n",
      "12 x 8 = 96\n",
      "12 x 9 = 108\n",
      "12 x 10 = 120\n",
      "12 x 11 = 132\n",
      "12 x 12 = 144\n"
     ]
    }
   ],
   "source": [
    "a = 12\n",
    "for i in range(1,a+1):\n",
    "    print('{} x {} = {}'.format(a,i,a*i))"
   ]
  },
  {
   "cell_type": "markdown",
   "id": "5f804af8",
   "metadata": {},
   "source": [
    "### Q3 Write a Python Program to Print the Fibonacci sequence?"
   ]
  },
  {
   "cell_type": "code",
   "execution_count": 6,
   "id": "0d363c6a",
   "metadata": {},
   "outputs": [
    {
     "name": "stdout",
     "output_type": "stream",
     "text": [
      "0  1  1  2  3  5  8  13  21  34  55  89  144  233  377  \n",
      "15\n"
     ]
    }
   ],
   "source": [
    "a = 0\n",
    "b = 1\n",
    "fab_list=[]\n",
    "while a <500:\n",
    "    print(a,end ='  ')\n",
    "    fab_list.append(a)\n",
    "    a,b = b,a+b\n",
    "print('\\n{}'.format(len(fab_list)))       "
   ]
  },
  {
   "cell_type": "markdown",
   "id": "a5ea48b6",
   "metadata": {},
   "source": [
    "### Q4. Write a Python Program to Check Armstrong Number?"
   ]
  },
  {
   "cell_type": "code",
   "execution_count": 7,
   "id": "a0e63e0f",
   "metadata": {},
   "outputs": [
    {
     "name": "stdout",
     "output_type": "stream",
     "text": [
      "Enter number to check !!!:  125\n",
      "125 is Not armstrong Number\n"
     ]
    }
   ],
   "source": [
    "a = input(\"Enter number to check !!!:  \")\n",
    "lst =[]\n",
    "for i in a:\n",
    "    num = pow(int(i),len(a))\n",
    "    lst.append(num)\n",
    "    Sum = sum(lst)\n",
    "# print(num,lst,Sum)\n",
    "if Sum == int(a):\n",
    "    print('{} is armstrong Number'.format(a))\n",
    "else:\n",
    "    print('{} is Not armstrong Number'.format(a))"
   ]
  },
  {
   "cell_type": "markdown",
   "id": "8f761f4c",
   "metadata": {},
   "source": [
    "### Q5 Write a Python Program to Find Armstrong Number in an Interval?"
   ]
  },
  {
   "cell_type": "code",
   "execution_count": 8,
   "id": "d669f82c",
   "metadata": {},
   "outputs": [
    {
     "name": "stdout",
     "output_type": "stream",
     "text": [
      "Enter lower range: 100\n",
      "Enter upper range: 500\n",
      "153\n",
      "370\n",
      "371\n",
      "407\n"
     ]
    }
   ],
   "source": [
    "lower_int = int(input(\"Enter lower range: \"))  \n",
    "upper_int = int(input(\"Enter upper range: \"))  \n",
    "  \n",
    "for i in range(lower_int,upper_int + 1):  \n",
    "    temp = i\n",
    "    sum = 0\n",
    "    while temp > 0:\n",
    "        digit = temp % 10  \n",
    "        sum += digit ** len(str(i))  \n",
    "        temp //= 10  \n",
    "    if i == sum:\n",
    "        print(i) "
   ]
  },
  {
   "cell_type": "markdown",
   "id": "1406afa2",
   "metadata": {},
   "source": [
    "### Q6 Write a Python Program to Find the Sum of Natural Numbers?"
   ]
  },
  {
   "cell_type": "code",
   "execution_count": 9,
   "id": "2d212486",
   "metadata": {},
   "outputs": [
    {
     "name": "stdout",
     "output_type": "stream",
     "text": [
      "Enter number: 99\n",
      "Sum of 99 natural number = 4950 \n"
     ]
    }
   ],
   "source": [
    "num = int(input('Enter number: '))\n",
    "sum = 0\n",
    "for i in range(num+1):\n",
    "    sum += i\n",
    "print(\"Sum of {} natural number = {} \".format(num,sum))"
   ]
  },
  {
   "cell_type": "code",
   "execution_count": null,
   "id": "9b481b95",
   "metadata": {},
   "outputs": [],
   "source": []
  }
 ],
 "metadata": {
  "kernelspec": {
   "display_name": "Python 3 (ipykernel)",
   "language": "python",
   "name": "python3"
  },
  "language_info": {
   "codemirror_mode": {
    "name": "ipython",
    "version": 3
   },
   "file_extension": ".py",
   "mimetype": "text/x-python",
   "name": "python",
   "nbconvert_exporter": "python",
   "pygments_lexer": "ipython3",
   "version": "3.9.6"
  }
 },
 "nbformat": 4,
 "nbformat_minor": 5
}
