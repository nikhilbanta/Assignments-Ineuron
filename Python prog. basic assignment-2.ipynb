{
 "cells": [
  {
   "cell_type": "markdown",
   "id": "c417798d",
   "metadata": {},
   "source": [
    "###  Q1 Write a Python program to convert kilometers to miles?"
   ]
  },
  {
   "cell_type": "code",
   "execution_count": 7,
   "id": "fa910631",
   "metadata": {},
   "outputs": [
    {
     "name": "stdout",
     "output_type": "stream",
     "text": [
      "Enter kilometers :78\n",
      "78 kilometers = 48.4614 miles\n"
     ]
    }
   ],
   "source": [
    "km = int(input(\"Enter kilometers :\"))\n",
    "miles =km * 0.6213\n",
    "print(\"{} kilometers = {} miles\".format(km,miles))"
   ]
  },
  {
   "cell_type": "markdown",
   "id": "dbe3cf2a",
   "metadata": {},
   "source": [
    "### Q2 Write a Python program to convert Celsius to Fahrenheit?"
   ]
  },
  {
   "cell_type": "code",
   "execution_count": 9,
   "id": "6de15ce4",
   "metadata": {},
   "outputs": [
    {
     "name": "stdout",
     "output_type": "stream",
     "text": [
      "Enter temperature in deg celsius :126\n",
      "126Deg Celsius = 258.8Deg Fahrenheit\n"
     ]
    }
   ],
   "source": [
    "cel = int(input(\"Enter temperature in deg celsius :\"))\n",
    "far = (cel * 9/5)+32\n",
    "print(\"{}Deg Celsius = {}Deg Fahrenheit\".format(cel,far))"
   ]
  },
  {
   "cell_type": "markdown",
   "id": "245d47e1",
   "metadata": {},
   "source": [
    "### Q3 Write a Python program to display calendar?"
   ]
  },
  {
   "cell_type": "code",
   "execution_count": 19,
   "id": "3e71cbee",
   "metadata": {},
   "outputs": [
    {
     "name": "stdout",
     "output_type": "stream",
     "text": [
      "                                  2021\n",
      "\n",
      "      January                   February                   March\n",
      "Mo Tu We Th Fr Sa Su      Mo Tu We Th Fr Sa Su      Mo Tu We Th Fr Sa Su\n",
      "             1  2  3       1  2  3  4  5  6  7       1  2  3  4  5  6  7\n",
      " 4  5  6  7  8  9 10       8  9 10 11 12 13 14       8  9 10 11 12 13 14\n",
      "11 12 13 14 15 16 17      15 16 17 18 19 20 21      15 16 17 18 19 20 21\n",
      "18 19 20 21 22 23 24      22 23 24 25 26 27 28      22 23 24 25 26 27 28\n",
      "25 26 27 28 29 30 31                                29 30 31\n",
      "\n",
      "       April                      May                       June\n",
      "Mo Tu We Th Fr Sa Su      Mo Tu We Th Fr Sa Su      Mo Tu We Th Fr Sa Su\n",
      "          1  2  3  4                      1  2          1  2  3  4  5  6\n",
      " 5  6  7  8  9 10 11       3  4  5  6  7  8  9       7  8  9 10 11 12 13\n",
      "12 13 14 15 16 17 18      10 11 12 13 14 15 16      14 15 16 17 18 19 20\n",
      "19 20 21 22 23 24 25      17 18 19 20 21 22 23      21 22 23 24 25 26 27\n",
      "26 27 28 29 30            24 25 26 27 28 29 30      28 29 30\n",
      "                          31\n",
      "\n",
      "        July                     August                  September\n",
      "Mo Tu We Th Fr Sa Su      Mo Tu We Th Fr Sa Su      Mo Tu We Th Fr Sa Su\n",
      "          1  2  3  4                         1             1  2  3  4  5\n",
      " 5  6  7  8  9 10 11       2  3  4  5  6  7  8       6  7  8  9 10 11 12\n",
      "12 13 14 15 16 17 18       9 10 11 12 13 14 15      13 14 15 16 17 18 19\n",
      "19 20 21 22 23 24 25      16 17 18 19 20 21 22      20 21 22 23 24 25 26\n",
      "26 27 28 29 30 31         23 24 25 26 27 28 29      27 28 29 30\n",
      "                          30 31\n",
      "\n",
      "      October                   November                  December\n",
      "Mo Tu We Th Fr Sa Su      Mo Tu We Th Fr Sa Su      Mo Tu We Th Fr Sa Su\n",
      "             1  2  3       1  2  3  4  5  6  7             1  2  3  4  5\n",
      " 4  5  6  7  8  9 10       8  9 10 11 12 13 14       6  7  8  9 10 11 12\n",
      "11 12 13 14 15 16 17      15 16 17 18 19 20 21      13 14 15 16 17 18 19\n",
      "18 19 20 21 22 23 24      22 23 24 25 26 27 28      20 21 22 23 24 25 26\n",
      "25 26 27 28 29 30 31      29 30                     27 28 29 30 31\n",
      "\n"
     ]
    }
   ],
   "source": [
    "import calendar as cal\n",
    "mm = 3\n",
    "yy = 1992\n",
    "print(cal.calendar(2021))"
   ]
  },
  {
   "cell_type": "markdown",
   "id": "851330b7",
   "metadata": {},
   "source": [
    "### Q4Write a Python program to solve quadratic equation?"
   ]
  },
  {
   "cell_type": "code",
   "execution_count": 40,
   "id": "cf909c26",
   "metadata": {},
   "outputs": [
    {
     "name": "stdout",
     "output_type": "stream",
     "text": [
      "Enter constant 1 :1\n",
      "Enter constant 2 :2\n",
      "Enter constant 3 :1\n",
      "Roots of equation 1x^2 + 2x + 1 are (-1+0j) and (-1+0j)\n"
     ]
    }
   ],
   "source": [
    "import cmath\n",
    "a = int(input(\"Enter constant 1 :\"))\n",
    "b = int(input(\"Enter constant 2 :\"))\n",
    "c = int(input(\"Enter constant 3 :\"))\n",
    "\n",
    "# equation = a*x^2 + b*x + c\n",
    "D = (b**2 - (4 * a * c))\n",
    "\n",
    "x1 = (-b - cmath.sqrt(D))/2*a\n",
    "x2 = (-b + cmath.sqrt(D))/2*a\n",
    "print(\"Roots of equation {}x^2 + {}x + {} are {} and {}\".format(a,b,c,x1,x2))"
   ]
  },
  {
   "cell_type": "markdown",
   "id": "a05fe189",
   "metadata": {},
   "source": [
    "### Q5. Write a Python program to swap two variables without temp variable?"
   ]
  },
  {
   "cell_type": "code",
   "execution_count": 43,
   "id": "35ca7d0c",
   "metadata": {},
   "outputs": [
    {
     "name": "stdout",
     "output_type": "stream",
     "text": [
      "Please enter number 1 : 55\n",
      "Please enter number 2 : 77\n",
      "\n",
      "Number 1 after swap :77\n",
      "Number 2 after swap :55\n"
     ]
    }
   ],
   "source": [
    "var_1 = int(input(\"Please enter number 1 : \"))\n",
    "var_2 = int(input(\"Please enter number 2 : \"))\n",
    "\n",
    "var_1 ,var_2 = var_2 , var_1\n",
    "print(\"\\nNumber 1 after swap : {}\\nNumber 2 after swap : {}\".format(var_1,var_2))"
   ]
  },
  {
   "cell_type": "code",
   "execution_count": null,
   "id": "424650af",
   "metadata": {},
   "outputs": [],
   "source": []
  }
 ],
 "metadata": {
  "kernelspec": {
   "display_name": "Python 3 (ipykernel)",
   "language": "python",
   "name": "python3"
  },
  "language_info": {
   "codemirror_mode": {
    "name": "ipython",
    "version": 3
   },
   "file_extension": ".py",
   "mimetype": "text/x-python",
   "name": "python",
   "nbconvert_exporter": "python",
   "pygments_lexer": "ipython3",
   "version": "3.9.5"
  }
 },
 "nbformat": 4,
 "nbformat_minor": 5
}
