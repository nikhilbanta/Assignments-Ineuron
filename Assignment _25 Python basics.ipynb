{
 "cells": [
  {
   "cell_type": "markdown",
   "id": "bad2f0ca",
   "metadata": {},
   "source": [
    "### Q1) What is the difference between enclosing a list comprehension in square brackets and parentheses?"
   ]
  },
  {
   "cell_type": "markdown",
   "id": "3a5294af",
   "metadata": {},
   "source": [
    "### Solution -"
   ]
  },
  {
   "cell_type": "code",
   "execution_count": 1,
   "id": "6ef45868",
   "metadata": {},
   "outputs": [
    {
     "name": "stdout",
     "output_type": "stream",
     "text": [
      "[0, 10, 20, 30, 40, 50, 60, 70, 80, 90]\n",
      "<class 'list'>\n",
      "184\n",
      "60\n"
     ]
    }
   ],
   "source": [
    "import sys\n",
    "#List comprehension []\n",
    "a = [i*10 for i in range(10)]\n",
    "print(a)\n",
    "print(type(a)) #type of a is list\n",
    "print(sys.getsizeof(a)) #This takes larger memory than generator comprehension\n",
    "print(a[6])"
   ]
  },
  {
   "cell_type": "code",
   "execution_count": 2,
   "id": "c34292da",
   "metadata": {},
   "outputs": [
    {
     "name": "stdout",
     "output_type": "stream",
     "text": [
      "<generator object <genexpr> at 0x000000D594783A50>\n",
      "<class 'generator'>\n",
      "112\n",
      "Slicing not allowed\n"
     ]
    }
   ],
   "source": [
    "#Generator comprehension ()\n",
    "b = (i*10 for i in range(10))\n",
    "print(b)\n",
    "print(type(b)) # type of b is generator \n",
    "print(sys.getsizeof(b)) #This takes low memory than list comprehension\n",
    "try:\n",
    "    print(b[6])\n",
    "except:\n",
    "    print(\"Slicing not allowed\")"
   ]
  },
  {
   "cell_type": "markdown",
   "id": "f1abf00b",
   "metadata": {},
   "source": [
    "### Q2) What is the relationship between generators and iterators?"
   ]
  },
  {
   "cell_type": "markdown",
   "id": "e40ce2e0",
   "metadata": {},
   "source": [
    "### Solution"
   ]
  },
  {
   "cell_type": "markdown",
   "id": "dbc2611f",
   "metadata": {},
   "source": [
    " #### Generator is used to createiterator,this means that generator is subclass of iterator"
   ]
  },
  {
   "cell_type": "code",
   "execution_count": 3,
   "id": "2d85f58f",
   "metadata": {},
   "outputs": [
    {
     "name": "stderr",
     "output_type": "stream",
     "text": [
      "C:\\Users\\NIKHIL~1\\AppData\\Local\\Temp/ipykernel_1720/2191160332.py:2: DeprecationWarning: Using or importing the ABCs from 'collections' instead of from 'collections.abc' is deprecated since Python 3.3, and in 3.10 it will stop working\n",
      "  issubclass(types.GeneratorType,collections.Iterator)\n"
     ]
    },
    {
     "data": {
      "text/plain": [
       "True"
      ]
     },
     "execution_count": 3,
     "metadata": {},
     "output_type": "execute_result"
    }
   ],
   "source": [
    "import collections.abc,types\n",
    "issubclass(types.GeneratorType,collections.Iterator)"
   ]
  },
  {
   "cell_type": "markdown",
   "id": "9eb5829e",
   "metadata": {},
   "source": [
    "### Q3) What are the signs that a function is a generator function?"
   ]
  },
  {
   "cell_type": "markdown",
   "id": "f30031a7",
   "metadata": {},
   "source": [
    "### Solution"
   ]
  },
  {
   "cell_type": "code",
   "execution_count": 4,
   "id": "75633b37",
   "metadata": {},
   "outputs": [
    {
     "data": {
      "text/plain": [
       "0"
      ]
     },
     "execution_count": 4,
     "metadata": {},
     "output_type": "execute_result"
    }
   ],
   "source": [
    "# Simple function contains return at the end\n",
    "def fun(a):\n",
    "    for i in range(a):\n",
    "        return i\n",
    "\n",
    "fun(10)"
   ]
  },
  {
   "cell_type": "code",
   "execution_count": 5,
   "id": "fa96b335",
   "metadata": {},
   "outputs": [
    {
     "name": "stdout",
     "output_type": "stream",
     "text": [
      "0 1 2 3 4 5 6 7 8 9 "
     ]
    }
   ],
   "source": [
    "#Generator function contains yield at the end and it can iterate over range\n",
    "def fun(a):\n",
    "    for i in range(a):\n",
    "        yield i\n",
    "        \n",
    "for i in fun(10):\n",
    "    print(i,end =\" \")"
   ]
  },
  {
   "cell_type": "markdown",
   "id": "6c1134bc",
   "metadata": {},
   "source": [
    "### Q4) What is the purpose of a yield statement?\n"
   ]
  },
  {
   "cell_type": "markdown",
   "id": "0327a047",
   "metadata": {},
   "source": [
    "### Solution"
   ]
  },
  {
   "cell_type": "markdown",
   "id": "b4207524",
   "metadata": {},
   "source": [
    "#### It is used in generator ,Yield statement store local variable value."
   ]
  },
  {
   "cell_type": "code",
   "execution_count": 6,
   "id": "91851470",
   "metadata": {},
   "outputs": [
    {
     "name": "stdout",
     "output_type": "stream",
     "text": [
      "0 1 2 3 4 5 6 7 8 9 "
     ]
    }
   ],
   "source": [
    "def fun(a):\n",
    "    for i in range(a):\n",
    "        yield i\n",
    "        \n",
    "for i in fun(10):\n",
    "    print(i,end =\" \")"
   ]
  },
  {
   "cell_type": "markdown",
   "id": "7c7a0d51",
   "metadata": {},
   "source": [
    "### Q5) What is the relationship between map calls and list comprehensions? Make a comparison and contrast between the two."
   ]
  },
  {
   "cell_type": "markdown",
   "id": "93b58435",
   "metadata": {},
   "source": [
    "### Solution"
   ]
  },
  {
   "cell_type": "code",
   "execution_count": 9,
   "id": "484b3029",
   "metadata": {},
   "outputs": [
    {
     "name": "stdout",
     "output_type": "stream",
     "text": [
      "[1, 4, 27, 256, 3125, 46656, 823543, 16777216, 387420489]\n"
     ]
    }
   ],
   "source": [
    "#map calls ,map is used to call function multiple time with set of input data\n",
    "def addition(n):\n",
    "    return pow(n,n)\n",
    "\n",
    "numbers = [1, 2, 3, 4, 5, 6, 7, 8, 9]\n",
    "result = map(addition, numbers)\n",
    "print(list(result))"
   ]
  },
  {
   "cell_type": "code",
   "execution_count": 10,
   "id": "9488e9b2",
   "metadata": {},
   "outputs": [
    {
     "name": "stdout",
     "output_type": "stream",
     "text": [
      "[1, 4, 27, 256, 3125, 46656, 823543, 16777216, 387420489]\n"
     ]
    }
   ],
   "source": [
    "#List comprehension \n",
    "numbers = [1, 2, 3, 4, 5, 6, 7, 8, 9]\n",
    "result2 = [pow(i,i) for i in numbers]\n",
    "print(result2)"
   ]
  },
  {
   "cell_type": "markdown",
   "id": "047576b0",
   "metadata": {},
   "source": [
    "### >list comprehension is easily readable than map.\n",
    "### >list comprehension can filter input data as per requirement but map can't do that.\n",
    "### >list comprehension is used when list of result is needed but map don't show direct result."
   ]
  },
  {
   "cell_type": "code",
   "execution_count": null,
   "id": "1073ee07",
   "metadata": {},
   "outputs": [],
   "source": []
  }
 ],
 "metadata": {
  "kernelspec": {
   "display_name": "Python 3 (ipykernel)",
   "language": "python",
   "name": "python3"
  },
  "language_info": {
   "codemirror_mode": {
    "name": "ipython",
    "version": 3
   },
   "file_extension": ".py",
   "mimetype": "text/x-python",
   "name": "python",
   "nbconvert_exporter": "python",
   "pygments_lexer": "ipython3",
   "version": "3.9.5"
  }
 },
 "nbformat": 4,
 "nbformat_minor": 5
}
