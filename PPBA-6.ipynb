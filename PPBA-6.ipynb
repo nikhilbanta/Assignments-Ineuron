{
 "cells": [
  {
   "cell_type": "markdown",
   "id": "839fbd2f",
   "metadata": {},
   "source": [
    "### 1. Write a Python Program to Display Fibonacci Sequence Using Recursion?"
   ]
  },
  {
   "cell_type": "code",
   "execution_count": 1,
   "id": "3f5cae35",
   "metadata": {},
   "outputs": [
    {
     "name": "stdout",
     "output_type": "stream",
     "text": [
      "Enter a number(Greater than 2) : 3\n",
      "[0, 1, 1]\n"
     ]
    }
   ],
   "source": [
    "fibo_series = [0, 1]\n",
    "\n",
    "def fibonacci(n):\n",
    "    if n<=len(fibo_series) and n>0:\n",
    "        return fibo_series[n-1]\n",
    "    else:\n",
    "        fn = fibonacci(n-1) + fibonacci(n-2)\n",
    "        if n>len(fibo_series):\n",
    "            fibo_series.append(fn)\n",
    "        return fn\n",
    "\n",
    "n = int(input('Enter a number(Greater than 2) : '))\n",
    "\n",
    "fibonacci(n)\n",
    "\n",
    "print(fibo_series)"
   ]
  },
  {
   "cell_type": "markdown",
   "id": "2626a4a8",
   "metadata": {},
   "source": [
    "### 2. Write a Python Program to Find Factorial of Number Using Recursion?"
   ]
  },
  {
   "cell_type": "code",
   "execution_count": 7,
   "id": "11a17e2f",
   "metadata": {},
   "outputs": [],
   "source": [
    "def fact(n):\n",
    "    if n==0 or n==1:\n",
    "        return 1\n",
    "    else:\n",
    "        return n*fact(n-1)"
   ]
  },
  {
   "cell_type": "code",
   "execution_count": 8,
   "id": "3b8196e2",
   "metadata": {},
   "outputs": [
    {
     "data": {
      "text/plain": [
       "3628800"
      ]
     },
     "execution_count": 8,
     "metadata": {},
     "output_type": "execute_result"
    }
   ],
   "source": [
    "fact(10)"
   ]
  },
  {
   "cell_type": "code",
   "execution_count": 9,
   "id": "43cd1622",
   "metadata": {},
   "outputs": [
    {
     "data": {
      "text/plain": [
       "2"
      ]
     },
     "execution_count": 9,
     "metadata": {},
     "output_type": "execute_result"
    }
   ],
   "source": [
    "fact(2)"
   ]
  },
  {
   "cell_type": "markdown",
   "id": "d77fc45f",
   "metadata": {},
   "source": [
    "### 3 Write a Python Program to calculate your Body Mass Index?"
   ]
  },
  {
   "cell_type": "code",
   "execution_count": 38,
   "id": "d617f66c",
   "metadata": {},
   "outputs": [],
   "source": [
    "def bmi_calculator():\n",
    "    weight =float(input(\"Enter weight in Kilogram : \"))\n",
    "    height =float(input(\"Enter height in centimeters : \"))\n",
    "    bmi = round(weight*10**4/(height**2),2)\n",
    "    print(50*'*')\n",
    "    if bmi < 18:\n",
    "        print(\"You are under weight\\nYour BMI ={}\".format(bmi))\n",
    "    elif bmi >=18 and bmi <=25:\n",
    "        print(\"Your weight is normal\\nYour BMI ={}\".format(bmi))\n",
    "    elif bmi >25 and bmi <=32:\n",
    "        print(\"You are overweight\\nYour BMI ={}\".format(bmi))\n",
    "    else:\n",
    "        print(\"You are obese\\nYour BMI ={}\".format(bmi))\n",
    "    return \"Normal BMI range is 18-25\""
   ]
  },
  {
   "cell_type": "code",
   "execution_count": 39,
   "id": "436c8460",
   "metadata": {},
   "outputs": [
    {
     "name": "stdout",
     "output_type": "stream",
     "text": [
      "Enter weight in Kilogram : 100\n",
      "Enter height in centimeters : 180\n",
      "**************************************************\n",
      "You are overweight\n",
      "Your BMI =30.86\n"
     ]
    },
    {
     "data": {
      "text/plain": [
       "'Normal BMI range is 18-25'"
      ]
     },
     "execution_count": 39,
     "metadata": {},
     "output_type": "execute_result"
    }
   ],
   "source": [
    "bmi_calculator()"
   ]
  },
  {
   "cell_type": "markdown",
   "id": "a752d4f8",
   "metadata": {},
   "source": [
    "### 4 Write a Python Program to calculate the natural logarithm of any number?"
   ]
  },
  {
   "cell_type": "code",
   "execution_count": 46,
   "id": "3a564a87",
   "metadata": {},
   "outputs": [],
   "source": [
    "import numpy as np\n",
    "def log_conversion(*args):\n",
    "    for i in args:\n",
    "        print(\"log of \",i,\"---->\",round(np.log(i),3))"
   ]
  },
  {
   "cell_type": "code",
   "execution_count": 47,
   "id": "4b936b84",
   "metadata": {},
   "outputs": [
    {
     "name": "stdout",
     "output_type": "stream",
     "text": [
      "log of  1 ----> 0.0\n",
      "log of  2 ----> 0.693\n",
      "log of  3 ----> 1.099\n",
      "log of  10 ----> 2.303\n",
      "log of  100 ----> 4.605\n",
      "log of  1000 ----> 6.908\n",
      "log of  160000 ----> 11.983\n"
     ]
    }
   ],
   "source": [
    "log_conversion(1,2,3,10,10**2,10**3,20**4)"
   ]
  },
  {
   "cell_type": "markdown",
   "id": "43663551",
   "metadata": {},
   "source": [
    "### 5 Write a Python Program for cube sum of first n natural numbers?"
   ]
  },
  {
   "cell_type": "code",
   "execution_count": 7,
   "id": "3e68055f",
   "metadata": {},
   "outputs": [],
   "source": [
    "def cube_sum(n):\n",
    "    cs =0\n",
    "    for i in range(1,n+1):\n",
    "        cs +=i**3\n",
    "    return cs"
   ]
  },
  {
   "cell_type": "code",
   "execution_count": 8,
   "id": "99acc909",
   "metadata": {},
   "outputs": [
    {
     "data": {
      "text/plain": [
       "225"
      ]
     },
     "execution_count": 8,
     "metadata": {},
     "output_type": "execute_result"
    }
   ],
   "source": [
    "cube_sum(5)"
   ]
  },
  {
   "cell_type": "code",
   "execution_count": null,
   "id": "03629973",
   "metadata": {},
   "outputs": [],
   "source": []
  }
 ],
 "metadata": {
  "kernelspec": {
   "display_name": "Python 3 (ipykernel)",
   "language": "python",
   "name": "python3"
  },
  "language_info": {
   "codemirror_mode": {
    "name": "ipython",
    "version": 3
   },
   "file_extension": ".py",
   "mimetype": "text/x-python",
   "name": "python",
   "nbconvert_exporter": "python",
   "pygments_lexer": "ipython3",
   "version": "3.9.5"
  }
 },
 "nbformat": 4,
 "nbformat_minor": 5
}
