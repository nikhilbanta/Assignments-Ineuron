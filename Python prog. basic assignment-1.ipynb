{
 "cells": [
  {
   "cell_type": "markdown",
   "id": "fd50242d",
   "metadata": {},
   "source": [
    "### 1. Write a Python program to print \"Hello Python\""
   ]
  },
  {
   "cell_type": "code",
   "execution_count": 1,
   "id": "949f6219",
   "metadata": {},
   "outputs": [
    {
     "name": "stdout",
     "output_type": "stream",
     "text": [
      "Hello Python\n"
     ]
    }
   ],
   "source": [
    "print(\"Hello Python\")"
   ]
  },
  {
   "cell_type": "markdown",
   "id": "f00d8d6d",
   "metadata": {},
   "source": [
    "### 2. Write a Python program to do arithmetical operations addition and division.?"
   ]
  },
  {
   "cell_type": "code",
   "execution_count": 3,
   "id": "6dec5cb9",
   "metadata": {},
   "outputs": [
    {
     "name": "stdout",
     "output_type": "stream",
     "text": [
      "Enter Number one! 66\n",
      "Enter Number two! 32\n",
      "Addition of 66 & 32 = 98  \n",
      "Division of 66 & 32 = 2.0625\n"
     ]
    }
   ],
   "source": [
    "num1 = int(input(\"Enter Number one! \"))\n",
    "num2 = int(input(\"Enter Number two! \"))\n",
    "add = num1 + num2\n",
    "div = num1 / num2\n",
    "print(\"Addition of {} & {} = {} \".format(num1,num2,add),\"\\nDivision of {} & {} = {}\".format(num1,num2,div))"
   ]
  },
  {
   "cell_type": "markdown",
   "id": "8324bb30",
   "metadata": {},
   "source": [
    "### 3.Write a Python program to find the area of a triangle?"
   ]
  },
  {
   "cell_type": "code",
   "execution_count": 5,
   "id": "b5e61c91",
   "metadata": {},
   "outputs": [
    {
     "name": "stdout",
     "output_type": "stream",
     "text": [
      "Enter length of base of triangle! 100\n",
      "Enter height of triangle! 50\n",
      "Area of triangle of base : 100 & height : 50 = 2500.0 \n"
     ]
    }
   ],
   "source": [
    "base = int(input(\"Enter length of base of triangle! \"))\n",
    "height = int(input(\"Enter height of triangle! \"))\n",
    "area = 1/2 * (base * height)\n",
    "print(\"Area of triangle of base : {} & height : {} = {} \".format(base,height,area))"
   ]
  },
  {
   "cell_type": "markdown",
   "id": "3938accb",
   "metadata": {},
   "source": [
    "### 4. Write a Python program to swap two variables?"
   ]
  },
  {
   "cell_type": "code",
   "execution_count": 9,
   "id": "95b30890",
   "metadata": {},
   "outputs": [
    {
     "name": "stdout",
     "output_type": "stream",
     "text": [
      "Enter value of variable 1! 989\n",
      "Enter value of variable 2! 898\n",
      "Before Swapping\n",
      "Var1 =989, Var2 =898\n",
      "\n",
      "After Swapping\n",
      "Var1 =898, Var2 =989\n"
     ]
    }
   ],
   "source": [
    "#Using third variable\n",
    "var1 = int(input(\"Enter value of variable 1! \"))\n",
    "var2 = int(input(\"Enter value of variable 2! \"))\n",
    "\n",
    "print(\"Before Swapping\\nVar1 ={}, Var2 ={}\".format(var1,var2))\n",
    "a = var1\n",
    "var1 = var2\n",
    "var2 = a\n",
    "print(\"\\nAfter Swapping\\nVar1 ={}, Var2 ={}\".format(var1,var2))\n"
   ]
  },
  {
   "cell_type": "code",
   "execution_count": 10,
   "id": "403927f7",
   "metadata": {},
   "outputs": [
    {
     "name": "stdout",
     "output_type": "stream",
     "text": [
      "Enter value of variable 1! 877\n",
      "Enter value of variable 2! 99\n",
      "Before Swapping\n",
      "Var1 =877, Var2 =99\n",
      "\n",
      "After Swapping\n",
      "Var1 =99, Var2 =877\n"
     ]
    }
   ],
   "source": [
    "#Without using third varible\n",
    "var1 = int(input(\"Enter value of variable 1! \"))\n",
    "var2 = int(input(\"Enter value of variable 2! \"))\n",
    "\n",
    "print(\"Before Swapping\\nVar1 ={}, Var2 ={}\".format(var1,var2))\n",
    "\n",
    "var1 , var2 = var2 , var1\n",
    "print(\"\\nAfter Swapping\\nVar1 ={}, Var2 ={}\".format(var1,var2))"
   ]
  },
  {
   "cell_type": "markdown",
   "id": "3d59f19b",
   "metadata": {},
   "source": [
    "### 5. Write a Python program to generate a random number?"
   ]
  },
  {
   "cell_type": "code",
   "execution_count": 17,
   "id": "4d6fff70",
   "metadata": {},
   "outputs": [
    {
     "name": "stdout",
     "output_type": "stream",
     "text": [
      "Random number is 0.47161221100642825\n"
     ]
    }
   ],
   "source": [
    "num = random.random()\n",
    "print(\"Random number is {}\".format(num))"
   ]
  },
  {
   "cell_type": "code",
   "execution_count": null,
   "id": "d4c9573e",
   "metadata": {},
   "outputs": [],
   "source": []
  },
  {
   "cell_type": "code",
   "execution_count": null,
   "id": "bbb29376",
   "metadata": {},
   "outputs": [],
   "source": []
  }
 ],
 "metadata": {
  "kernelspec": {
   "display_name": "Python 3 (ipykernel)",
   "language": "python",
   "name": "python3"
  },
  "language_info": {
   "codemirror_mode": {
    "name": "ipython",
    "version": 3
   },
   "file_extension": ".py",
   "mimetype": "text/x-python",
   "name": "python",
   "nbconvert_exporter": "python",
   "pygments_lexer": "ipython3",
   "version": "3.9.5"
  }
 },
 "nbformat": 4,
 "nbformat_minor": 5
}
