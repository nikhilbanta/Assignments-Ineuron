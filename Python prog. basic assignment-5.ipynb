{
 "cells": [
  {
   "cell_type": "markdown",
   "id": "5aaa44f2",
   "metadata": {},
   "source": [
    "### Q1. Write a Python Program to Find LCM?"
   ]
  },
  {
   "cell_type": "code",
   "execution_count": 1,
   "id": "8cff3c80",
   "metadata": {},
   "outputs": [],
   "source": [
    "from math import gcd\n",
    "def lcm(a,b,c):\n",
    "    prod = 1\n",
    "    for i in (a,b,c):\n",
    "        prod = prod * i\n",
    "    lcm = prod/gcd(a,b,c)\n",
    "    return lcm"
   ]
  },
  {
   "cell_type": "code",
   "execution_count": 2,
   "id": "8584c110",
   "metadata": {},
   "outputs": [
    {
     "data": {
      "text/plain": [
       "120.0"
      ]
     },
     "execution_count": 2,
     "metadata": {},
     "output_type": "execute_result"
    }
   ],
   "source": [
    "lcm(4,5,6)"
   ]
  },
  {
   "cell_type": "markdown",
   "id": "2396f8ee",
   "metadata": {},
   "source": [
    "###  Q2 Write a Python Program to Find HCF?"
   ]
  },
  {
   "cell_type": "code",
   "execution_count": 3,
   "id": "3d21f1e3",
   "metadata": {},
   "outputs": [],
   "source": [
    "def hcf(a,b,c):\n",
    "    return gcd(a,b,c)"
   ]
  },
  {
   "cell_type": "code",
   "execution_count": 4,
   "id": "cf78f57b",
   "metadata": {},
   "outputs": [
    {
     "data": {
      "text/plain": [
       "11"
      ]
     },
     "execution_count": 4,
     "metadata": {},
     "output_type": "execute_result"
    }
   ],
   "source": [
    "hcf(55,99,121)"
   ]
  },
  {
   "cell_type": "markdown",
   "id": "ec5256d9",
   "metadata": {},
   "source": [
    "### Q3. Write a Python Program to Convert Decimal to Binary, Octal and Hexadecimal?"
   ]
  },
  {
   "cell_type": "markdown",
   "id": "5c4d6487",
   "metadata": {},
   "source": [
    "#### Method 1"
   ]
  },
  {
   "cell_type": "code",
   "execution_count": 57,
   "id": "fffda7c5",
   "metadata": {},
   "outputs": [
    {
     "name": "stdout",
     "output_type": "stream",
     "text": [
      "Decimal:500 --> Binary:[1, 1, 1, 1, 1, 0, 1, 0, 0]\n"
     ]
    }
   ],
   "source": [
    "num = 500\n",
    "a = 1\n",
    "lst1 =[]\n",
    "temp = num\n",
    "while a != 0:\n",
    "    a = temp//2\n",
    "    b = temp%2\n",
    "    temp = a\n",
    "    lst1.append(b)\n",
    "(lst1).reverse()\n",
    "\n",
    "print('Decimal:{} --> Binary:{}'.format(num,lst1))\n",
    "\n",
    "\n",
    "    "
   ]
  },
  {
   "cell_type": "markdown",
   "id": "dd77097c",
   "metadata": {},
   "source": [
    "#### Method 2"
   ]
  },
  {
   "cell_type": "code",
   "execution_count": 65,
   "id": "03211af8",
   "metadata": {},
   "outputs": [
    {
     "name": "stdout",
     "output_type": "stream",
     "text": [
      "Enter number to convert into Binary/Octal/Hexadecimal: 546\n",
      "Press 1 for Binary conversion\n",
      "Press 2 for Octal conversion\n",
      "Press 3 for Hexadecimal conversion\n",
      "2\n",
      "Decimal:546 --> Octal:0o1042\n"
     ]
    }
   ],
   "source": [
    "a = int(input(\"Enter number to convert into Binary/Octal/Hexadecimal: \"))\n",
    "b = int(input(\"Press 1 for Binary conversion\\nPress 2 for Octal conversion\\nPress 3 for Hexadecimal conversion\\n\"))\n",
    "\n",
    "if b == 1:\n",
    "    print('Decimal:{} --> Binary:{}'.format(a,bin(a)))\n",
    "elif b == 2:\n",
    "    print('Decimal:{} --> Octal:{}'.format(a,oct(a)))\n",
    "elif b == 3:\n",
    "    print('Decimal:{} --> HexaDecimal:{}'.format(a,hex(a)))\n",
    "else:\n",
    "    print(\"Please check the number you have entered!!!\")\n"
   ]
  },
  {
   "cell_type": "markdown",
   "id": "c153f45b",
   "metadata": {},
   "source": [
    "### Q4 Write a Python Program To Find ASCII value of a character?"
   ]
  },
  {
   "cell_type": "code",
   "execution_count": 69,
   "id": "531aeb18",
   "metadata": {},
   "outputs": [
    {
     "name": "stdout",
     "output_type": "stream",
     "text": [
      "Enter character for ASCII conversion   HELLO hello 123456\n",
      "72 69 76 76 79 32 104 101 108 108 111 32 49 50 51 52 53 54 "
     ]
    }
   ],
   "source": [
    "char = input(\"Enter character for ASCII conversion   \")\n",
    "for i in char:\n",
    "    print(ord(i),end=' ')"
   ]
  },
  {
   "cell_type": "markdown",
   "id": "aa55adfd",
   "metadata": {},
   "source": [
    "### Q5. Write a Python Program to Make a Simple Calculator with 4 basic mathematical operations?"
   ]
  },
  {
   "cell_type": "code",
   "execution_count": 88,
   "id": "16025965",
   "metadata": {},
   "outputs": [],
   "source": [
    "def cal(a,b):\n",
    "    print('Addition: {}\\nSubtraction: {}\\nMultiplication: {}\\nDivision: {}'.format(a+b,a-b,a*b,a/b))"
   ]
  },
  {
   "cell_type": "code",
   "execution_count": 89,
   "id": "4fa53b7c",
   "metadata": {},
   "outputs": [
    {
     "name": "stdout",
     "output_type": "stream",
     "text": [
      "Addition: 143\n",
      "Subtraction: 55\n",
      "Multiplication: 4356\n",
      "Division: 2.25\n"
     ]
    }
   ],
   "source": [
    "cal(99,44)"
   ]
  }
 ],
 "metadata": {
  "kernelspec": {
   "display_name": "Python 3 (ipykernel)",
   "language": "python",
   "name": "python3"
  },
  "language_info": {
   "codemirror_mode": {
    "name": "ipython",
    "version": 3
   },
   "file_extension": ".py",
   "mimetype": "text/x-python",
   "name": "python",
   "nbconvert_exporter": "python",
   "pygments_lexer": "ipython3",
   "version": "3.9.6"
  }
 },
 "nbformat": 4,
 "nbformat_minor": 5
}
